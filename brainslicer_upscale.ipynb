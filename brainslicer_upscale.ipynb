{
  "nbformat": 4,
  "nbformat_minor": 0,
  "metadata": {
    "colab": {
      "provenance": [],
      "gpuType": "T4",
      "authorship_tag": "ABX9TyOOLj+jbC9XyVqJcx1ZeoEs",
      "include_colab_link": true
    },
    "kernelspec": {
      "name": "python3",
      "display_name": "Python 3"
    },
    "language_info": {
      "name": "python"
    },
    "accelerator": "GPU"
  },
  "cells": [
    {
      "cell_type": "markdown",
      "metadata": {
        "id": "view-in-github",
        "colab_type": "text"
      },
      "source": [
        "<a href=\"https://colab.research.google.com/github/sohaamir/brainslicer/blob/main/brainslicer_upscale.ipynb\" target=\"_parent\"><img src=\"https://colab.research.google.com/assets/colab-badge.svg\" alt=\"Open In Colab\"/></a>"
      ]
    },
    {
      "cell_type": "markdown",
      "source": [
        "# Upscaling brain images using `brainslicer` and `Real-ESGRAN`\n",
        "\n",
        "[![GitHub Stars](https://img.shields.io/badge/brainslicer_ESGRAN-v1.0-blue?logo=github)](https://github.com/sohaamir/brainslicer)\n",
        "\n",
        "This notebook provides an integrated workflow towards generating upscaled brain images. NIFTIs, hosted on Google Drive, are firstly sliced using `brainslicer`.\n",
        "\n",
        "`brainslicer [-h] [--plane {axial,sagittal,coronal}] [--brightness BRIGHTNESS] [--contrast CONTRAST] [--colourmap {magma,inferno,plasma}] file_path slice_number`\n",
        "\n",
        "For more information and usage examples, use the `-h` or `--help` flags.\n",
        "\n",
        "The slices can then be upscaled using [Real-ESRGAN](https://arxiv.org/abs/2107.10833), a Generative Adversarial Network capable of recovering high resolution images from low resolution ones.\n",
        "\n",
        "You can apply `Real-ESGRAN` to sliced images on both your Google Drive and locally on your computer.\n",
        "\n",
        "### **Pre-requisites**\n",
        "\n",
        "1. I would strongly advocate changing the runtime from 'CPU' to 'T4 GPU'. This significantly shorten the amount of time taken to process an image (from 2-3 minutes to a few seconds).\n",
        "\n",
        "2. You will need to download the Real-ESGRAN model weights and put them into a subdirectory within your `brainslicer` folder. The weights can be found [here](https://github.com/sohaamir/brainslicer/tree/main/weights).\n",
        "\n",
        "3. You can choose to run `brainslicer` and `Real-ESGRAN` on files that are located on your local machine, or on Google Drive, however it is easier and quicker to do the latter. You can set up your directory with the following structure:\n",
        "\n",
        "```\n",
        "brainslicer/\n",
        "├── brainslices/\n",
        "├── niftis/\n",
        "├── Real-ESRGAN-colab/\n",
        "├── weights/\n",
        "└── brainslicer_upscale.ipynb\n",
        "```\n",
        "\n",
        "Please note that after generating an image, if you want to generate another, you will have to change back into the original working directory by `cd% /gdrive/MyDrive/projects/brainslicer`. This is because you are changing the location of the directory in the notebook."
      ],
      "metadata": {
        "id": "oREC2LbYsU0s"
      }
    },
    {
      "cell_type": "markdown",
      "source": [
        "## 1. Install the `brainslicer` package and it's dependencies"
      ],
      "metadata": {
        "id": "pgr2NRt7BHk7"
      }
    },
    {
      "cell_type": "code",
      "source": [
        "# Install brainslicer from GitHub\n",
        "%%capture\n",
        "!pip install git+https://github.com/sohaamir/brainslicer.git\n",
        "!pip install nibabel numpy Pillow matplotlib"
      ],
      "metadata": {
        "id": "ssMU3xeVT6Hj"
      },
      "execution_count": null,
      "outputs": []
    },
    {
      "cell_type": "code",
      "source": [
        "# pass the help argument for instructions\n",
        "!brainslicer --help"
      ],
      "metadata": {
        "id": "24zmdBF8kVOd"
      },
      "execution_count": null,
      "outputs": []
    },
    {
      "cell_type": "markdown",
      "source": [
        "## 2. Change to your relevant directory and run `brainslicer`"
      ],
      "metadata": {
        "id": "kArHM5cUBd4a"
      }
    },
    {
      "cell_type": "code",
      "source": [
        "# Mount your Google Drive and change to your brainslicer directory (you will have to give permissions)\n",
        "from google.colab import drive, files\n",
        "\n",
        "drive.mount('/gdrive')\n",
        "%cd /gdrive/MyDrive/projects/brainslicer\n",
        "\n",
        "# drive.mount('/content/drive')\n",
        "#%cd /content/drive/MyDrive/projects/brainslicer/"
      ],
      "metadata": {
        "id": "34FYZxmCAXwx"
      },
      "execution_count": null,
      "outputs": []
    },
    {
      "cell_type": "code",
      "source": [
        "# It may be useful to print out the dimensions of the NIFTI first (sagittal, coronal, axial)\n",
        "import nibabel as nib\n",
        "\n",
        "# Load the NIFTI file\n",
        "nifti_file_path = 'niftis/aamir_T1.nii'\n",
        "nifti_img = nib.load(nifti_file_path)\n",
        "\n",
        "# Get dimensions of the NIFTI image\n",
        "nifti_dimensions = nifti_img.header.get_data_shape()\n",
        "print(nifti_dimensions)"
      ],
      "metadata": {
        "id": "erxjvHRuFVYf"
      },
      "execution_count": null,
      "outputs": []
    },
    {
      "cell_type": "code",
      "source": [
        "# Run brainslicer using the CLI\n",
        "!brainslicer niftis/aamir_T1.nii 100 --plane sagittal --brightness 2.0 --contrast 2.0 --colourmap plasma"
      ],
      "metadata": {
        "id": "95CuoPU7E7Zx"
      },
      "execution_count": null,
      "outputs": []
    },
    {
      "cell_type": "markdown",
      "source": [
        "You can also choose to upload NIFTIs from your local machine, but it takes quite a while..."
      ],
      "metadata": {
        "id": "xW_jUcceBwjU"
      }
    },
    {
      "cell_type": "code",
      "source": [
        "from google.colab import files\n",
        "\n",
        "uploaded = files.upload()"
      ],
      "metadata": {
        "id": "-xRgQfZP_ysd"
      },
      "execution_count": null,
      "outputs": []
    },
    {
      "cell_type": "markdown",
      "source": [
        "## 3. Display the sliced image"
      ],
      "metadata": {
        "id": "-IBefNqaCV8Y"
      }
    },
    {
      "cell_type": "code",
      "source": [
        "import os\n",
        "import matplotlib.pyplot as plt\n",
        "import matplotlib.image as mpimg\n",
        "\n",
        "output_dir = '/gdrive/MyDrive/projects/brainslicer/brainslices'  # Your output directory\n",
        "\n",
        "# Find the latest file in the output directory\n",
        "latest_file = None\n",
        "latest_timestamp = 0\n",
        "\n",
        "for filename in os.listdir(output_dir):\n",
        "    if filename.endswith('.png'):\n",
        "        filepath = os.path.join(output_dir, filename)\n",
        "        file_timestamp = os.path.getmtime(filepath)  # Get file modification timestamp\n",
        "        if file_timestamp > latest_timestamp:\n",
        "            latest_timestamp = file_timestamp\n",
        "            latest_file = filepath\n",
        "\n",
        "# Check if an image was found\n",
        "if latest_file:\n",
        "    img = mpimg.imread(latest_file)\n",
        "\n",
        "    # Display the image\n",
        "    plt.figure(figsize=(8,6))\n",
        "    plt.imshow(img, cmap='gray')\n",
        "    plt.axis('off')\n",
        "    plt.title('Latest Brainslicer Output')\n",
        "    plt.show()\n",
        "else:\n",
        "    print(\"No image found in the 'brainslices' directory.\")"
      ],
      "metadata": {
        "id": "DbnmJ39mgb8x"
      },
      "execution_count": null,
      "outputs": []
    },
    {
      "cell_type": "markdown",
      "source": [
        "## 4. Setup the Real-ESGRAN environment"
      ],
      "metadata": {
        "id": "uCvLtIn0CcYk"
      }
    },
    {
      "cell_type": "code",
      "source": [
        "# Clone Real-ESRGAN and install requirements\n",
        "%%capture\n",
        "!pip install git+https://github.com/sberbank-ai/Real-ESRGAN.git\n",
        "!git clone https://github.com/boomb0om/Real-ESRGAN-colab\n",
        "%cd Real-ESRGAN-colab\n",
        "!pip install -r requirements.txt"
      ],
      "metadata": {
        "id": "B-V4e47tAFSE"
      },
      "execution_count": null,
      "outputs": []
    },
    {
      "cell_type": "markdown",
      "source": [
        "## 5. Set up the model using the heaviest weights, and create a function which displays the original and upscaled slice side-by-side"
      ],
      "metadata": {
        "id": "016WCU6PCmGo"
      }
    },
    {
      "cell_type": "code",
      "source": [
        "import torch\n",
        "from PIL import Image\n",
        "import numpy as np\n",
        "from RealESRGAN import RealESRGAN\n",
        "\n",
        "# Set up the model\n",
        "device = torch.device('cuda' if torch.cuda.is_available() else 'cpu')\n",
        "model = RealESRGAN(device, scale=4)\n",
        "model.load_weights('/content/drive/MyDrive/projects/brainslicer/weights/RealESRGAN_x4.pth')\n",
        "\n",
        "def upscale_image(image_path, output_dir):\n",
        "    \"\"\"Upscales a single image and saves the result.\"\"\"\n",
        "    image = Image.open(image_path).convert('RGB')\n",
        "    sr_image = model.predict(image)\n",
        "\n",
        "    # Create output directory if needed\n",
        "    os.makedirs(output_dir, exist_ok=True)\n",
        "\n",
        "    # Save images\n",
        "    base_filename = os.path.splitext(os.path.basename(image_path))[0]\n",
        "    image.save(os.path.join(output_dir, f'{base_filename}_original.png'))\n",
        "    sr_image.save(os.path.join(output_dir, f'{base_filename}_upscaled.png'))\n",
        "\n",
        "    # Display images side-by-side\n",
        "    fig, (ax1, ax2) = plt.subplots(1, 2, figsize=(12, 6))\n",
        "    ax1.imshow(image)\n",
        "    ax1.set_title('Original Image')\n",
        "    ax1.axis('off')\n",
        "    ax2.imshow(sr_image)\n",
        "    ax2.set_title('Upscaled Image')\n",
        "    ax2.axis('off')\n",
        "    plt.show()"
      ],
      "metadata": {
        "id": "wMY8SXwNVrju"
      },
      "execution_count": null,
      "outputs": []
    },
    {
      "cell_type": "markdown",
      "source": [
        "## 6. Run the model on your sliced image\n",
        "\n",
        "You need to select the directory in which the slices are in. Usually, this will be the 'brainslices' subdirectory, as this is automatically created by `brainslicer` when it is run."
      ],
      "metadata": {
        "id": "YDGQyVT6K9Gn"
      }
    },
    {
      "cell_type": "code",
      "source": [
        "# Find the most recently modified file with a .png extension\n",
        "most_recent_file = None\n",
        "most_recent_timestamp = 0\n",
        "\n",
        "pictures_dir = '/gdrive/MyDrive/projects/brainslicer/brainslices'\n",
        "\n",
        "for filename in os.listdir(pictures_dir):\n",
        "    if filename.endswith('.png'):\n",
        "        filepath = os.path.join(pictures_dir, filename)\n",
        "        file_timestamp = os.path.getmtime(filepath)\n",
        "        if file_timestamp > most_recent_timestamp:\n",
        "            most_recent_timestamp = file_timestamp\n",
        "            most_recent_file = filepath\n",
        "\n",
        "if most_recent_file:\n",
        "    upscale_image(most_recent_file, output_dir)\n",
        "else:\n",
        "    print(\"No PNG files found in the directory.\")"
      ],
      "metadata": {
        "id": "t1Xsp3mc-CGM"
      },
      "execution_count": null,
      "outputs": []
    },
    {
      "cell_type": "markdown",
      "source": [
        "Again, you can choose to upload your slices if you wish."
      ],
      "metadata": {
        "id": "1w4hK08wLQBl"
      }
    },
    {
      "cell_type": "code",
      "source": [
        "uploaded = files.upload()\n",
        "for filename in uploaded.keys():\n",
        "  output_dir = 'brainslicer_upscaled'\n",
        "  upscale_image(filename, output_dir)"
      ],
      "metadata": {
        "id": "bmXXHi0r-IJq"
      },
      "execution_count": null,
      "outputs": []
    },
    {
      "cell_type": "markdown",
      "source": [],
      "metadata": {
        "id": "qYW1YYM2Tk-I"
      }
    }
  ]
}